{
 "cells": [
  {
   "cell_type": "code",
   "execution_count": null,
   "id": "80404681",
   "metadata": {},
   "outputs": [],
   "source": [
    "from centigrad.variable import Variable"
   ]
  },
  {
   "cell_type": "markdown",
   "id": "6ecc367b",
   "metadata": {},
   "source": [
    "# Usage example 1"
   ]
  },
  {
   "cell_type": "code",
   "execution_count": null,
   "id": "68dfa2ba",
   "metadata": {},
   "outputs": [],
   "source": [
    "a = Variable(5)\n",
    "b = Variable(10)\n",
    "fab = (a + b)**2 + a*b + b**3\n",
    "print(\"Parents:\\n\")\n",
    "print(f\"a's parents: {a.parents}\") # Must print a list with 2 parents: Variable(15) (a+b), and Variable(50) (a*b)\n",
    "print(f\"a's first parent parents: {a.parents[0].parents}\") # Must print 1 parent: Variable(value=225) (a + b)**2\n",
    "print()\n",
    "print(f\"b's parents: {b.parents}\") # Must print a list with 3 parents: Variable(15) (a+b), Variable(50) (a*b)\n",
    "                                    # and Variable(1000) (b**3)\n",
    "print(f\"b's third parent parents: {b.parents[2].parents}\") # Must print 1 parent: Variable(value=1275) (a + b)**2\n",
    "                                                           # which comes from the total expression fab"
   ]
  },
  {
   "cell_type": "code",
   "execution_count": null,
   "id": "ac10d61c",
   "metadata": {},
   "outputs": [],
   "source": [
    "print(\"Gradients:\\n\")\n",
    "print(f\"Gradient of fab wrt a: {a.grad():.2f}\") # Must print 40\n",
    "print(f\"Gradient of fab wrt b: {b.grad():.2f}\") # Must print 335"
   ]
  },
  {
   "cell_type": "markdown",
   "id": "19cb9954",
   "metadata": {},
   "source": [
    "# Usage example 2"
   ]
  },
  {
   "cell_type": "code",
   "execution_count": null,
   "id": "9e67064e",
   "metadata": {},
   "outputs": [],
   "source": [
    "x = Variable(1)\n",
    "y = Variable(-2)\n",
    "z = 1 + 2*x + 3*y\n",
    "fz = (1/(1+(-z).exp()))\n",
    "print(\"Gradients:\\n\")\n",
    "print(f\"Gradient of fz wrt x: {x.grad():.5f}\") # Must print 0.09035 (fz*(1-fz)*2)\n",
    "print(f\"Gradient of fz wrt y: {y.grad():.5f}\") # Must print 0.13553 (fz*(1-fz)*3)"
   ]
  },
  {
   "cell_type": "markdown",
   "id": "dbab7cd5",
   "metadata": {},
   "source": [
    "# Usage example 3"
   ]
  },
  {
   "cell_type": "code",
   "execution_count": null,
   "id": "c87a0af8",
   "metadata": {},
   "outputs": [],
   "source": [
    "a = Variable(5)\n",
    "b = a*a # In this case, that a Variable object is used multiple times inside the same expression,\n",
    "        # two parents are generated (not one as if the operation was a**2). This happens because\n",
    "        # the __mul__ method generates parents for both the value and other value, which in this case\n",
    "        # happen to be the same\n",
    "print(f\"# of parents of a: {len(a.parents)}\") # Should print 2\n",
    "print(f\"Parents of a: {a.parents}\") # Should print a list of 4 parents: Variable(25), Variable(25)\n",
    "print(f\"Gradient of b: {a.grad()}\") # Should print 10"
   ]
  }
 ],
 "metadata": {
  "kernelspec": {
   "display_name": "centigrad",
   "language": "python",
   "name": "centigrad"
  },
  "language_info": {
   "codemirror_mode": {
    "name": "ipython",
    "version": 3
   },
   "file_extension": ".py",
   "mimetype": "text/x-python",
   "name": "python",
   "nbconvert_exporter": "python",
   "pygments_lexer": "ipython3",
   "version": "3.11.9"
  }
 },
 "nbformat": 4,
 "nbformat_minor": 5
}
