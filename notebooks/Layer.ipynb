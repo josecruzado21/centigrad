{
 "cells": [
  {
   "cell_type": "code",
   "execution_count": null,
   "id": "a2d0e824",
   "metadata": {},
   "outputs": [],
   "source": [
    "from centigrad.layer import Layer\n",
    "import numpy as np"
   ]
  },
  {
   "cell_type": "markdown",
   "id": "76a874db",
   "metadata": {},
   "source": [
    "# Usage example 1"
   ]
  },
  {
   "cell_type": "code",
   "execution_count": null,
   "id": "c8acf32d",
   "metadata": {},
   "outputs": [],
   "source": [
    "# Initialization of a layer with 10 input features, sigmoid activation, 3 neurons and no initial weights or biases\n",
    "layer = Layer(input_dim = 10,\n",
    "              n_neurons = 3,\n",
    "              activation = \"sigmoid\")"
   ]
  },
  {
   "cell_type": "markdown",
   "id": "8ae02c48",
   "metadata": {},
   "source": [
    "# Usage example 2"
   ]
  },
  {
   "cell_type": "code",
   "execution_count": null,
   "id": "db4ef848",
   "metadata": {},
   "outputs": [],
   "source": [
    "initial_weights = np.array([[1, 0],\n",
    "                            [0, 1]])\n",
    "initial_biases = np.array([[1],\n",
    "                           [0]])\n",
    "layer = Layer(input_dim = 2,\n",
    "              n_neurons = 2,\n",
    "              activation = \"relu\")"
   ]
  }
 ],
 "metadata": {
  "kernelspec": {
   "display_name": "centigrad",
   "language": "python",
   "name": "centigrad"
  },
  "language_info": {
   "codemirror_mode": {
    "name": "ipython",
    "version": 3
   },
   "file_extension": ".py",
   "mimetype": "text/x-python",
   "name": "python",
   "nbconvert_exporter": "python",
   "pygments_lexer": "ipython3",
   "version": "3.11.9"
  }
 },
 "nbformat": 4,
 "nbformat_minor": 5
}
