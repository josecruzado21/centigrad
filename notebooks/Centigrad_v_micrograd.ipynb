{
 "cells": [
  {
   "cell_type": "code",
   "execution_count": 9,
   "id": "2f7e2303",
   "metadata": {},
   "outputs": [],
   "source": [
    "import micrograd\n",
    "import centigrad\n",
    "import time\n",
    "from sklearn.datasets import make_moons"
   ]
  },
  {
   "cell_type": "markdown",
   "id": "f4fd9654",
   "metadata": {},
   "source": [
    "# Generate dataset"
   ]
  },
  {
   "cell_type": "code",
   "execution_count": 10,
   "id": "b0b609a6",
   "metadata": {},
   "outputs": [],
   "source": [
    "samples = 100\n",
    "X, y = make_moons(n_samples=samples, noise=0.1, random_state=42)\n",
    "y = y.reshape((samples, 1))"
   ]
  },
  {
   "cell_type": "markdown",
   "id": "5a7bf174",
   "metadata": {},
   "source": [
    "# Centigrad"
   ]
  },
  {
   "cell_type": "code",
   "execution_count": 13,
   "id": "c18be77d",
   "metadata": {},
   "outputs": [],
   "source": [
    "from centigrad.network import Network\n",
    "from centigrad.variable import Variable"
   ]
  },
  {
   "cell_type": "code",
   "execution_count": 14,
   "id": "dc7b55f6",
   "metadata": {},
   "outputs": [],
   "source": [
    "X_centigrad = X.T\n",
    "y_centigrad = y.T"
   ]
  },
  {
   "cell_type": "code",
   "execution_count": 15,
   "id": "f5549130",
   "metadata": {},
   "outputs": [
    {
     "name": "stderr",
     "output_type": "stream",
     "text": [
      "100%|███████████████████████████████████████████████████████████████████████████████████████| 100/100 [04:20<00:00,  2.61s/it]"
     ]
    },
    {
     "name": "stdout",
     "output_type": "stream",
     "text": [
      "Initial Loss: 62.88547507719301\n",
      "Final Loss: 0.09267759186477402\n",
      "--------------------------------------------------\n",
      "Time elapsed: 4.35 minutes\n"
     ]
    },
    {
     "name": "stderr",
     "output_type": "stream",
     "text": [
      "\n"
     ]
    }
   ],
   "source": [
    "start = time.time()\n",
    "nn_centigrad = Network(2, [16, 16, 1], [\"relu\", \"relu\", \"linear\"])\n",
    "nn_centigrad.fit(X_centigrad, y_centigrad, epochs = 100, learning_rate = 0.01)\n",
    "end = time.time()\n",
    "print(f\"Initial Loss: {nn_centigrad.epoch_losses[0]}\")\n",
    "print(f\"Final Loss: {nn_centigrad.epoch_losses[-1]}\")\n",
    "print(\"-\"*50)\n",
    "print(f\"Time elapsed: {(end-start)/60:.2f} minutes\")"
   ]
  },
  {
   "cell_type": "markdown",
   "id": "010c841c",
   "metadata": {},
   "source": [
    "# Micrograd"
   ]
  },
  {
   "cell_type": "code",
   "execution_count": 11,
   "id": "a2a989ec",
   "metadata": {},
   "outputs": [],
   "source": [
    "from micrograd.engine import Value\n",
    "from micrograd.nn import Neuron, Layer, MLP\n",
    "from tqdm import tqdm"
   ]
  },
  {
   "cell_type": "code",
   "execution_count": 12,
   "id": "3608000e",
   "metadata": {},
   "outputs": [
    {
     "name": "stderr",
     "output_type": "stream",
     "text": [
      "  1%|▉                                                                                        | 1/100 [00:00<01:01,  1.60it/s]"
     ]
    },
    {
     "name": "stdout",
     "output_type": "stream",
     "text": [
      "Initial Loss: Value(data=[355.38703203], grad=0)\n"
     ]
    },
    {
     "name": "stderr",
     "output_type": "stream",
     "text": [
      "100%|███████████████████████████████████████████████████████████████████████████████████████| 100/100 [00:58<00:00,  1.71it/s]"
     ]
    },
    {
     "name": "stdout",
     "output_type": "stream",
     "text": [
      "Final Loss: Value(data=[9.40458638e+33], grad=0)\n",
      "--------------------------------------------------\n",
      "Time elapsed: 0.97 minutes\n"
     ]
    },
    {
     "name": "stderr",
     "output_type": "stream",
     "text": [
      "\n"
     ]
    }
   ],
   "source": [
    "start = time.time()\n",
    "nn_micrograd = MLP(2, [16, 16, 1])\n",
    "\n",
    "for k in tqdm(range(100)):\n",
    "    # forward pass\n",
    "    y_pred = [nn_micrograd(x) for x in X]\n",
    "    loss = sum((yout - ygt)**2 for ygt, yout in zip(y, y_pred))\n",
    "    if k==0:\n",
    "        print(f\"Initial Loss: {loss}\")\n",
    "    nn_micrograd.zero_grad()\n",
    "    loss.backward()\n",
    "    \n",
    "    #update\n",
    "    for p in nn_micrograd.parameters():\n",
    "        p.data -= 0.01*p.grad\n",
    "        \n",
    "loss = sum((yout - ygt)**2 for ygt, yout in zip(y, y_pred))    \n",
    "end = time.time()\n",
    "print(f\"Final Loss: {loss}\")\n",
    "print(\"-\"*50)\n",
    "print(f\"Time elapsed: {(end-start)/60:.2f} minutes\")"
   ]
  },
  {
   "cell_type": "code",
   "execution_count": null,
   "id": "514d6c9a",
   "metadata": {},
   "outputs": [],
   "source": []
  }
 ],
 "metadata": {
  "kernelspec": {
   "display_name": "centigrad",
   "language": "python",
   "name": "centigrad"
  },
  "language_info": {
   "codemirror_mode": {
    "name": "ipython",
    "version": 3
   },
   "file_extension": ".py",
   "mimetype": "text/x-python",
   "name": "python",
   "nbconvert_exporter": "python",
   "pygments_lexer": "ipython3",
   "version": "3.11.9"
  }
 },
 "nbformat": 4,
 "nbformat_minor": 5
}
