{
 "cells": [
  {
   "cell_type": "code",
   "execution_count": null,
   "id": "05b83ede",
   "metadata": {},
   "outputs": [],
   "source": [
    "import micrograd\n",
    "import centigrad\n",
    "import time\n",
    "from sklearn.datasets import make_moons"
   ]
  },
  {
   "cell_type": "markdown",
   "id": "c88a70d7",
   "metadata": {},
   "source": [
    "# Generate dataset"
   ]
  },
  {
   "cell_type": "code",
   "execution_count": null,
   "id": "f1565e30",
   "metadata": {},
   "outputs": [],
   "source": [
    "samples = 100\n",
    "X, y = make_moons(n_samples=samples, noise=0.1, random_state=42)\n",
    "y = y.reshape((samples, 1))"
   ]
  },
  {
   "cell_type": "markdown",
   "id": "ce695567",
   "metadata": {},
   "source": [
    "# Centigrad"
   ]
  },
  {
   "cell_type": "code",
   "execution_count": null,
   "id": "aed5bc29",
   "metadata": {},
   "outputs": [],
   "source": [
    "from centigrad.network import Network\n",
    "from centigrad.variable import Variable"
   ]
  },
  {
   "cell_type": "code",
   "execution_count": null,
   "id": "d3154404",
   "metadata": {},
   "outputs": [],
   "source": [
    "X_centigrad = X.T\n",
    "y_centigrad = y.T"
   ]
  },
  {
   "cell_type": "code",
   "execution_count": null,
   "id": "fa8c77f2",
   "metadata": {},
   "outputs": [],
   "source": [
    "start = time.time()\n",
    "nn_centigrad = Network(2, [16, 16, 1], [\"relu\", \"relu\", \"linear\"])\n",
    "nn_centigrad.fit(X_centigrad, y_centigrad, epochs = 100, learning_rate = 0.01)\n",
    "end = time.time()\n",
    "print(f\"Initial Loss: {nn_centigrad.epoch_losses[0]}\")\n",
    "print(f\"Final Loss: {nn_centigrad.epoch_losses[-1]}\")\n",
    "print(\"-\"*50)\n",
    "print(f\"Time elapsed: {(end-start)/60:.2f} minutes\")"
   ]
  },
  {
   "cell_type": "markdown",
   "id": "9350fbe7",
   "metadata": {},
   "source": [
    "# Micrograd"
   ]
  },
  {
   "cell_type": "code",
   "execution_count": null,
   "id": "2b672fae",
   "metadata": {},
   "outputs": [],
   "source": [
    "from micrograd.engine import Value\n",
    "from micrograd.nn import Neuron, Layer, MLP\n",
    "from tqdm import tqdm"
   ]
  },
  {
   "cell_type": "code",
   "execution_count": null,
   "id": "2e2f1a5f",
   "metadata": {},
   "outputs": [],
   "source": [
    "start = time.time()\n",
    "nn_micrograd = MLP(2, [16, 16, 1])\n",
    "\n",
    "for k in tqdm(range(100)):\n",
    "    # forward pass\n",
    "    y_pred = [nn_micrograd(x) for x in X]\n",
    "    loss = sum((yout - ygt)**2 for ygt, yout in zip(y, y_pred))\n",
    "    if k==0:\n",
    "        print(f\"Initial Loss: {loss}\")\n",
    "    nn_micrograd.zero_grad()\n",
    "    loss.backward()\n",
    "    \n",
    "    #update\n",
    "    for p in nn_micrograd.parameters():\n",
    "        p.data -= 0.01*p.grad\n",
    "        \n",
    "loss = sum((yout - ygt)**2 for ygt, yout in zip(y, y_pred))    \n",
    "end = time.time()\n",
    "print(f\"Final Loss: {loss}\")\n",
    "print(\"-\"*50)\n",
    "print(f\"Time elapsed: {(end-start)/60:.2f} minutes\")"
   ]
  }
 ],
 "metadata": {
  "kernelspec": {
   "display_name": "centigrad",
   "language": "python",
   "name": "centigrad"
  },
  "language_info": {
   "codemirror_mode": {
    "name": "ipython",
    "version": 3
   },
   "file_extension": ".py",
   "mimetype": "text/x-python",
   "name": "python",
   "nbconvert_exporter": "python",
   "pygments_lexer": "ipython3",
   "version": "3.11.9"
  }
 },
 "nbformat": 4,
 "nbformat_minor": 5
}
